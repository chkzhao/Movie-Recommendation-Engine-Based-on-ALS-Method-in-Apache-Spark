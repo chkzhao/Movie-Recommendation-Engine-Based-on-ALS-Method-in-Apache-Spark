{
  "nbformat": 4,
  "nbformat_minor": 0,
  "metadata": {
    "colab": {
      "name": "HW2 Movie Recommendation ML-based (ALS algorithm)",
      "provenance": [],
      "collapsed_sections": []
    },
    "kernelspec": {
      "name": "python3",
      "display_name": "Python 3"
    },
    "language_info": {
      "name": "python"
    }
  },
  "cells": [
    {
      "cell_type": "markdown",
      "source": [
        "# **Movie Recommendation Engine Based on ALS Method in Apache Spark**\n",
        "In this notebook, I will use an Alternating Least Squares (ALS) algorithm with Spark APIs to predict the ratings for the movies in MovieLens small dataset."
      ],
      "metadata": {
        "id": "DoyLNBqVxVKF"
      }
    },
    {
      "cell_type": "markdown",
      "source": [
        "\n",
        "## Data ETL and Data Exploration"
      ],
      "metadata": {
        "id": "aLT-L7gRynl6"
      }
    },
    {
      "cell_type": "code",
      "source": [
        "!ls"
      ],
      "metadata": {
        "colab": {
          "base_uri": "https://localhost:8080/"
        },
        "id": "qi789NOx3_oq",
        "outputId": "d3dc69be-d1d1-47b5-8760-c6351c29879c"
      },
      "execution_count": null,
      "outputs": [
        {
          "output_type": "stream",
          "name": "stdout",
          "text": [
            "sample_data\n"
          ]
        }
      ]
    },
    {
      "cell_type": "code",
      "source": [
        "!apt-get install openjdk-8-jdk-headless -qq > /dev/null\n",
        "!wget -q https://dlcdn.apache.org/spark/spark-3.2.1/spark-3.2.1-bin-hadoop2.7.tgz\n",
        "!tar xf spark-3.2.1-bin-hadoop2.7.tgz\n",
        "!pip install -q findspark"
      ],
      "metadata": {
        "id": "SXD0GDhDxNUT"
      },
      "execution_count": null,
      "outputs": []
    },
    {
      "cell_type": "code",
      "source": [
        "import os\n",
        "os.environ[\"JAVA_HOME\"] = \"/usr/lib/jvm/java-8-openjdk-amd64\"\n",
        "os.environ[\"SPARK_HOME\"] = \"/content/spark-3.2.1-bin-hadoop2.7\""
      ],
      "metadata": {
        "id": "af0ri9fWG9Py"
      },
      "execution_count": null,
      "outputs": []
    },
    {
      "cell_type": "code",
      "source": [
        "import findspark\n",
        "findspark.init()\n",
        "from pyspark.sql import SparkSession\n",
        "spark = SparkSession.builder.master(\"local[*]\").getOrCreate()"
      ],
      "metadata": {
        "id": "xgZ6KKGDG_qn"
      },
      "execution_count": null,
      "outputs": []
    },
    {
      "cell_type": "code",
      "source": [
        "!ls"
      ],
      "metadata": {
        "colab": {
          "base_uri": "https://localhost:8080/"
        },
        "id": "SPvQd-k_xNeq",
        "outputId": "55aef495-6794-4b8f-aac0-2ee690c897bf"
      },
      "execution_count": null,
      "outputs": [
        {
          "output_type": "stream",
          "name": "stdout",
          "text": [
            "sample_data  spark-3.2.1-bin-hadoop2.7\tspark-3.2.1-bin-hadoop2.7.tgz\n"
          ]
        }
      ]
    },
    {
      "cell_type": "code",
      "source": [
        "spark.version"
      ],
      "metadata": {
        "colab": {
          "base_uri": "https://localhost:8080/",
          "height": 35
        },
        "id": "bv5DPer8HwyS",
        "outputId": "57d1c1e1-6329-4193-fe9c-38b7fd15e4f1"
      },
      "execution_count": null,
      "outputs": [
        {
          "output_type": "execute_result",
          "data": {
            "application/vnd.google.colaboratory.intrinsic+json": {
              "type": "string"
            },
            "text/plain": [
              "'3.2.1'"
            ]
          },
          "metadata": {},
          "execution_count": 6
        }
      ]
    },
    {
      "cell_type": "code",
      "source": [
        "import numpy as np\n",
        "import pandas as pd\n",
        "import seaborn as sns\n",
        "import matplotlib.pyplot as plt\n",
        "import math\n",
        "# Magic function that renders the figure in a notebook\n",
        "%matplotlib inline\n",
        "\n",
        "os.environ[\"PYSPARK_PYTHON\"] = \"python3\""
      ],
      "metadata": {
        "id": "KJAqE44tHwm9"
      },
      "execution_count": null,
      "outputs": []
    },
    {
      "cell_type": "code",
      "source": [
        "!wget --no-check-certificate https://files.grouplens.org/datasets/movielens/ml-latest-small.zip\n",
        "!unzip ml-latest-small.zip\n",
        "!ls ml-latest-small/"
      ],
      "metadata": {
        "colab": {
          "base_uri": "https://localhost:8080/"
        },
        "id": "ZOFlg5snHwkh",
        "outputId": "e037ecbd-435b-447c-8e27-206052dc5e51"
      },
      "execution_count": null,
      "outputs": [
        {
          "output_type": "stream",
          "name": "stdout",
          "text": [
            "--2022-02-12 02:12:39--  https://files.grouplens.org/datasets/movielens/ml-latest-small.zip\n",
            "Resolving files.grouplens.org (files.grouplens.org)... 128.101.65.152\n",
            "Connecting to files.grouplens.org (files.grouplens.org)|128.101.65.152|:443... connected.\n",
            "HTTP request sent, awaiting response... 200 OK\n",
            "Length: 978202 (955K) [application/zip]\n",
            "Saving to: ‘ml-latest-small.zip’\n",
            "\n",
            "ml-latest-small.zip 100%[===================>] 955.28K  --.-KB/s    in 0.1s    \n",
            "\n",
            "2022-02-12 02:12:39 (8.33 MB/s) - ‘ml-latest-small.zip’ saved [978202/978202]\n",
            "\n",
            "Archive:  ml-latest-small.zip\n",
            "   creating: ml-latest-small/\n",
            "  inflating: ml-latest-small/links.csv  \n",
            "  inflating: ml-latest-small/tags.csv  \n",
            "  inflating: ml-latest-small/ratings.csv  \n",
            "  inflating: ml-latest-small/README.txt  \n",
            "  inflating: ml-latest-small/movies.csv  \n",
            "links.csv  movies.csv  ratings.csv  README.txt\ttags.csv\n"
          ]
        }
      ]
    },
    {
      "cell_type": "code",
      "source": [
        "movies_df = spark.read.csv(\"./ml-latest-small/movies.csv\", inferSchema=True, header=True)\n",
        "ratings_df = spark.read.csv(\"./ml-latest-small/ratings.csv\", inferSchema=True, header=True)\n",
        "tags_df = spark.read.csv(\"./ml-latest-small/tags.csv\", inferSchema=True, header=True)\n",
        "links_df = spark.read.csv(\"./ml-latest-small/links.csv\", inferSchema=True, header=True)"
      ],
      "metadata": {
        "id": "pEXIaNXiHwgU"
      },
      "execution_count": null,
      "outputs": []
    },
    {
      "cell_type": "code",
      "source": [
        "movies_df.show(5)"
      ],
      "metadata": {
        "colab": {
          "base_uri": "https://localhost:8080/"
        },
        "id": "F8I1IeDlHwdu",
        "outputId": "36805e19-131e-4a97-bae6-6627dcb67885"
      },
      "execution_count": null,
      "outputs": [
        {
          "output_type": "stream",
          "name": "stdout",
          "text": [
            "+-------+--------------------+--------------------+\n",
            "|movieId|               title|              genres|\n",
            "+-------+--------------------+--------------------+\n",
            "|      1|    Toy Story (1995)|Adventure|Animati...|\n",
            "|      2|      Jumanji (1995)|Adventure|Childre...|\n",
            "|      3|Grumpier Old Men ...|      Comedy|Romance|\n",
            "|      4|Waiting to Exhale...|Comedy|Drama|Romance|\n",
            "|      5|Father of the Bri...|              Comedy|\n",
            "+-------+--------------------+--------------------+\n",
            "only showing top 5 rows\n",
            "\n"
          ]
        }
      ]
    },
    {
      "cell_type": "code",
      "source": [
        "ratings_df.show(5)"
      ],
      "metadata": {
        "colab": {
          "base_uri": "https://localhost:8080/"
        },
        "id": "9rmysqoLHwYA",
        "outputId": "6676d77f-5894-4584-feba-a7fd3b7603c4"
      },
      "execution_count": null,
      "outputs": [
        {
          "output_type": "stream",
          "name": "stdout",
          "text": [
            "+------+-------+------+---------+\n",
            "|userId|movieId|rating|timestamp|\n",
            "+------+-------+------+---------+\n",
            "|     1|      1|   4.0|964982703|\n",
            "|     1|      3|   4.0|964981247|\n",
            "|     1|      6|   4.0|964982224|\n",
            "|     1|     47|   5.0|964983815|\n",
            "|     1|     50|   5.0|964982931|\n",
            "+------+-------+------+---------+\n",
            "only showing top 5 rows\n",
            "\n"
          ]
        }
      ]
    },
    {
      "cell_type": "code",
      "source": [
        "links_df.show(5)"
      ],
      "metadata": {
        "colab": {
          "base_uri": "https://localhost:8080/"
        },
        "id": "nC0jbQZFHwVR",
        "outputId": "0b658e0e-b839-4e2e-be55-6109238a2f97"
      },
      "execution_count": null,
      "outputs": [
        {
          "output_type": "stream",
          "name": "stdout",
          "text": [
            "+-------+------+------+\n",
            "|movieId|imdbId|tmdbId|\n",
            "+-------+------+------+\n",
            "|      1|114709|   862|\n",
            "|      2|113497|  8844|\n",
            "|      3|113228| 15602|\n",
            "|      4|114885| 31357|\n",
            "|      5|113041| 11862|\n",
            "+-------+------+------+\n",
            "only showing top 5 rows\n",
            "\n"
          ]
        }
      ]
    },
    {
      "cell_type": "code",
      "source": [
        "tags_df.show(5)"
      ],
      "metadata": {
        "colab": {
          "base_uri": "https://localhost:8080/"
        },
        "id": "718Dduw0Ms7t",
        "outputId": "a49bc770-3db1-4bd9-a079-0af2f934aa14"
      },
      "execution_count": null,
      "outputs": [
        {
          "output_type": "stream",
          "name": "stdout",
          "text": [
            "+------+-------+---------------+----------+\n",
            "|userId|movieId|            tag| timestamp|\n",
            "+------+-------+---------------+----------+\n",
            "|     2|  60756|          funny|1445714994|\n",
            "|     2|  60756|Highly quotable|1445714996|\n",
            "|     2|  60756|   will ferrell|1445714992|\n",
            "|     2|  89774|   Boxing story|1445715207|\n",
            "|     2|  89774|            MMA|1445715200|\n",
            "+------+-------+---------------+----------+\n",
            "only showing top 5 rows\n",
            "\n"
          ]
        }
      ]
    },
    {
      "cell_type": "code",
      "source": [
        "tmp1 = ratings_df.groupBy(\"userID\").count().toPandas()['count'].min()\n",
        "tmp2 = ratings_df.groupBy(\"movieId\").count().toPandas()['count'].min()\n",
        "print('For the users that rated movies and the movies that were rated:')\n",
        "print('Minimum number of ratings per user is {}'.format(tmp1))\n",
        "print('Minimum number of ratings per movie is {}'.format(tmp2))"
      ],
      "metadata": {
        "colab": {
          "base_uri": "https://localhost:8080/"
        },
        "id": "KVO-r4wVMs5a",
        "outputId": "43f09075-3a07-40cb-e110-512298b064ce"
      },
      "execution_count": null,
      "outputs": [
        {
          "output_type": "stream",
          "name": "stdout",
          "text": [
            "For the users that rated movies and the movies that were rated:\n",
            "Minimum number of ratings per user is 20\n",
            "Minimum number of ratings per movie is 1\n"
          ]
        }
      ]
    },
    {
      "cell_type": "code",
      "source": [
        "tmp3 = sum(ratings_df.groupBy(\"movieId\").count().toPandas()['count'] == 1)\n",
        "tmp4 = ratings_df.select('movieId').distinct().count()\n",
        "print('{} out of {} movies are rated by only one user'.format(tmp3, tmp4))"
      ],
      "metadata": {
        "colab": {
          "base_uri": "https://localhost:8080/"
        },
        "id": "BMYoORyhMs3G",
        "outputId": "8a46d86e-2389-4910-93fa-fa7bca153142"
      },
      "execution_count": null,
      "outputs": [
        {
          "output_type": "stream",
          "name": "stdout",
          "text": [
            "3446 out of 9724 movies are rated by only one user\n"
          ]
        }
      ]
    },
    {
      "cell_type": "markdown",
      "source": [
        "## Part 1: Spark SQL and OLAP"
      ],
      "metadata": {
        "id": "l9tjHImgY8mt"
      }
    },
    {
      "cell_type": "code",
      "source": [
        "movies_df.registerTempTable(\"movies\")\n",
        "ratings_df.registerTempTable(\"ratings\")\n",
        "links_df.registerTempTable(\"links\")\n",
        "tags_df.registerTempTable(\"tags\")"
      ],
      "metadata": {
        "colab": {
          "base_uri": "https://localhost:8080/"
        },
        "id": "OO5mRxIrMs0x",
        "outputId": "498530ae-c731-4df4-a01f-f56198c6e66c"
      },
      "execution_count": null,
      "outputs": [
        {
          "output_type": "stream",
          "name": "stderr",
          "text": [
            "/content/spark-3.2.1-bin-hadoop2.7/python/pyspark/sql/dataframe.py:140: FutureWarning: Deprecated in 2.0, use createOrReplaceTempView instead.\n",
            "  FutureWarning\n"
          ]
        }
      ]
    },
    {
      "cell_type": "markdown",
      "source": [
        "### Q1: The number of users"
      ],
      "metadata": {
        "id": "Hfc8iK8X5lSz"
      }
    },
    {
      "cell_type": "code",
      "source": [
        "q1_result = spark.sql(\"SELECT COUNT(DISTINCT userId) AS number_of_users FROM ratings\")\n",
        "q1_result.show()"
      ],
      "metadata": {
        "colab": {
          "base_uri": "https://localhost:8080/"
        },
        "id": "IeiGbDzUZCzK",
        "outputId": "edddeee2-8748-49bd-f63a-826982bdce5c"
      },
      "execution_count": null,
      "outputs": [
        {
          "output_type": "stream",
          "name": "stdout",
          "text": [
            "+---------------+\n",
            "|number_of_users|\n",
            "+---------------+\n",
            "|            610|\n",
            "+---------------+\n",
            "\n"
          ]
        }
      ]
    },
    {
      "cell_type": "markdown",
      "source": [
        "### Q2: The number of movies"
      ],
      "metadata": {
        "id": "1meDDP1-5u13"
      }
    },
    {
      "cell_type": "code",
      "source": [
        "q2_result = spark.sql(\"SELECT COUNT(DISTINCT movieId) AS number_of_movies FROM movies\")\n",
        "q2_result.show()"
      ],
      "metadata": {
        "colab": {
          "base_uri": "https://localhost:8080/"
        },
        "id": "oowMoqLRZCxH",
        "outputId": "02c56062-7848-411a-cda7-f1258e1d4240"
      },
      "execution_count": null,
      "outputs": [
        {
          "output_type": "stream",
          "name": "stdout",
          "text": [
            "+----------------+\n",
            "|number_of_movies|\n",
            "+----------------+\n",
            "|            9742|\n",
            "+----------------+\n",
            "\n"
          ]
        }
      ]
    },
    {
      "cell_type": "markdown",
      "source": [
        "### Q3: How many movies are rated by users? List the movies not be rated before"
      ],
      "metadata": {
        "id": "z3jwKkeP6csL"
      }
    },
    {
      "cell_type": "code",
      "source": [
        "q3_result_rated_movies = spark.sql(\"SELECT COUNT(DISTINCT movieId) AS number_of_rated_movies FROM ratings\")\n",
        "q3_result_rated_movies.show()"
      ],
      "metadata": {
        "colab": {
          "base_uri": "https://localhost:8080/"
        },
        "id": "TAtRwS7yZCsf",
        "outputId": "d047623e-38e5-4689-bd53-4aa467b8a066"
      },
      "execution_count": null,
      "outputs": [
        {
          "output_type": "stream",
          "name": "stdout",
          "text": [
            "+----------------------+\n",
            "|number_of_rated_movies|\n",
            "+----------------------+\n",
            "|                  9724|\n",
            "+----------------------+\n",
            "\n"
          ]
        }
      ]
    },
    {
      "cell_type": "code",
      "source": [
        "q3_result_nrated_movies_list = spark.sql(\"SELECT * FROM movies WHERE movieId NOT IN (SELECT DISTINCT movieId FROM ratings)\")\n",
        "q3_result_nrated_movies_list.show()"
      ],
      "metadata": {
        "colab": {
          "base_uri": "https://localhost:8080/"
        },
        "id": "yA2QTPsbZCp8",
        "outputId": "6349b2e6-3ebd-4ffa-f3ef-709e8e6905d6"
      },
      "execution_count": null,
      "outputs": [
        {
          "output_type": "stream",
          "name": "stdout",
          "text": [
            "+-------+--------------------+--------------------+\n",
            "|movieId|               title|              genres|\n",
            "+-------+--------------------+--------------------+\n",
            "|   1076|Innocents, The (1...|Drama|Horror|Thri...|\n",
            "|   2939|      Niagara (1953)|      Drama|Thriller|\n",
            "|   3338|For All Mankind (...|         Documentary|\n",
            "|   3456|Color of Paradise...|               Drama|\n",
            "|   4194|I Know Where I'm ...|   Drama|Romance|War|\n",
            "|   5721|  Chosen, The (1981)|               Drama|\n",
            "|   6668|Road Home, The (W...|       Drama|Romance|\n",
            "|   6849|      Scrooge (1970)|Drama|Fantasy|Mus...|\n",
            "|   7020|        Proof (1991)|Comedy|Drama|Romance|\n",
            "|   7792|Parallax View, Th...|            Thriller|\n",
            "|   8765|This Gun for Hire...|Crime|Film-Noir|T...|\n",
            "|  25855|Roaring Twenties,...|Crime|Drama|Thriller|\n",
            "|  26085|Mutiny on the Bou...|Adventure|Drama|R...|\n",
            "|  30892|In the Realms of ...|Animation|Documen...|\n",
            "|  32160|Twentieth Century...|              Comedy|\n",
            "|  32371|Call Northside 77...|Crime|Drama|Film-...|\n",
            "|  34482|Browning Version,...|               Drama|\n",
            "|  85565|  Chalet Girl (2011)|      Comedy|Romance|\n",
            "+-------+--------------------+--------------------+\n",
            "\n"
          ]
        }
      ]
    },
    {
      "cell_type": "markdown",
      "source": [
        "### Q4: List the movie genres"
      ],
      "metadata": {
        "id": "dhs-ccY_FgnY"
      }
    },
    {
      "cell_type": "code",
      "source": [
        "# Solution 1 for Q4 - Use lateral view explode to split one row into many rows\n",
        "q4_result_solution1 = spark.sql(\"SELECT DISTINCT genres_list FROM movies LATERAL VIEW EXPLODE(SPLIT(genres, '[|]')) AS genres_list ORDER BY genres_list\")\n",
        "#q4_result_solution1 = spark.sql(\"SELECT DISTINCT EXPLODE(SPLIT(genres, '[|]')) AS genres FROM movies ORDER BY genres\")\n",
        "q4_result_solution1.show()"
      ],
      "metadata": {
        "id": "mgze9IhxQIML",
        "colab": {
          "base_uri": "https://localhost:8080/"
        },
        "outputId": "69a59681-30a9-4660-83b7-62111a0ffaf5"
      },
      "execution_count": null,
      "outputs": [
        {
          "output_type": "stream",
          "name": "stdout",
          "text": [
            "+------------------+\n",
            "|       genres_list|\n",
            "+------------------+\n",
            "|(no genres listed)|\n",
            "|            Action|\n",
            "|         Adventure|\n",
            "|         Animation|\n",
            "|          Children|\n",
            "|            Comedy|\n",
            "|             Crime|\n",
            "|       Documentary|\n",
            "|             Drama|\n",
            "|           Fantasy|\n",
            "|         Film-Noir|\n",
            "|            Horror|\n",
            "|              IMAX|\n",
            "|           Musical|\n",
            "|           Mystery|\n",
            "|           Romance|\n",
            "|            Sci-Fi|\n",
            "|          Thriller|\n",
            "|               War|\n",
            "|           Western|\n",
            "+------------------+\n",
            "\n"
          ]
        }
      ]
    },
    {
      "cell_type": "code",
      "source": [
        "# Solution 2 for Q4 - Split the genres manually\n",
        "genres = movies_df.select(\"genres\").distinct().toPandas()\n",
        "# Store the distinct genres by using set\n",
        "genres_set = set()\n",
        "# Iterate each genre in each row and add it to the set\n",
        "for row in genres[\"genres\"]:\n",
        "  for genre in row.split(\"|\"):\n",
        "    genres_set.add(genre)\n",
        "# Convert the set to a list and print as a dataframe after sorting\n",
        "genres_list = sorted(list(genres_set))\n",
        "pd.DataFrame(genres_list, columns=[\"genres_list\"])"
      ],
      "metadata": {
        "colab": {
          "base_uri": "https://localhost:8080/",
          "height": 676
        },
        "id": "Kv4o-qPQMsyX",
        "outputId": "89da6f7a-79f4-47da-f71e-7cfa88bde308"
      },
      "execution_count": null,
      "outputs": [
        {
          "output_type": "execute_result",
          "data": {
            "text/html": [
              "\n",
              "  <div id=\"df-b5dcf941-e501-4d52-a542-768ca6aa27c8\">\n",
              "    <div class=\"colab-df-container\">\n",
              "      <div>\n",
              "<style scoped>\n",
              "    .dataframe tbody tr th:only-of-type {\n",
              "        vertical-align: middle;\n",
              "    }\n",
              "\n",
              "    .dataframe tbody tr th {\n",
              "        vertical-align: top;\n",
              "    }\n",
              "\n",
              "    .dataframe thead th {\n",
              "        text-align: right;\n",
              "    }\n",
              "</style>\n",
              "<table border=\"1\" class=\"dataframe\">\n",
              "  <thead>\n",
              "    <tr style=\"text-align: right;\">\n",
              "      <th></th>\n",
              "      <th>genres_list</th>\n",
              "    </tr>\n",
              "  </thead>\n",
              "  <tbody>\n",
              "    <tr>\n",
              "      <th>0</th>\n",
              "      <td>(no genres listed)</td>\n",
              "    </tr>\n",
              "    <tr>\n",
              "      <th>1</th>\n",
              "      <td>Action</td>\n",
              "    </tr>\n",
              "    <tr>\n",
              "      <th>2</th>\n",
              "      <td>Adventure</td>\n",
              "    </tr>\n",
              "    <tr>\n",
              "      <th>3</th>\n",
              "      <td>Animation</td>\n",
              "    </tr>\n",
              "    <tr>\n",
              "      <th>4</th>\n",
              "      <td>Children</td>\n",
              "    </tr>\n",
              "    <tr>\n",
              "      <th>5</th>\n",
              "      <td>Comedy</td>\n",
              "    </tr>\n",
              "    <tr>\n",
              "      <th>6</th>\n",
              "      <td>Crime</td>\n",
              "    </tr>\n",
              "    <tr>\n",
              "      <th>7</th>\n",
              "      <td>Documentary</td>\n",
              "    </tr>\n",
              "    <tr>\n",
              "      <th>8</th>\n",
              "      <td>Drama</td>\n",
              "    </tr>\n",
              "    <tr>\n",
              "      <th>9</th>\n",
              "      <td>Fantasy</td>\n",
              "    </tr>\n",
              "    <tr>\n",
              "      <th>10</th>\n",
              "      <td>Film-Noir</td>\n",
              "    </tr>\n",
              "    <tr>\n",
              "      <th>11</th>\n",
              "      <td>Horror</td>\n",
              "    </tr>\n",
              "    <tr>\n",
              "      <th>12</th>\n",
              "      <td>IMAX</td>\n",
              "    </tr>\n",
              "    <tr>\n",
              "      <th>13</th>\n",
              "      <td>Musical</td>\n",
              "    </tr>\n",
              "    <tr>\n",
              "      <th>14</th>\n",
              "      <td>Mystery</td>\n",
              "    </tr>\n",
              "    <tr>\n",
              "      <th>15</th>\n",
              "      <td>Romance</td>\n",
              "    </tr>\n",
              "    <tr>\n",
              "      <th>16</th>\n",
              "      <td>Sci-Fi</td>\n",
              "    </tr>\n",
              "    <tr>\n",
              "      <th>17</th>\n",
              "      <td>Thriller</td>\n",
              "    </tr>\n",
              "    <tr>\n",
              "      <th>18</th>\n",
              "      <td>War</td>\n",
              "    </tr>\n",
              "    <tr>\n",
              "      <th>19</th>\n",
              "      <td>Western</td>\n",
              "    </tr>\n",
              "  </tbody>\n",
              "</table>\n",
              "</div>\n",
              "      <button class=\"colab-df-convert\" onclick=\"convertToInteractive('df-b5dcf941-e501-4d52-a542-768ca6aa27c8')\"\n",
              "              title=\"Convert this dataframe to an interactive table.\"\n",
              "              style=\"display:none;\">\n",
              "        \n",
              "  <svg xmlns=\"http://www.w3.org/2000/svg\" height=\"24px\"viewBox=\"0 0 24 24\"\n",
              "       width=\"24px\">\n",
              "    <path d=\"M0 0h24v24H0V0z\" fill=\"none\"/>\n",
              "    <path d=\"M18.56 5.44l.94 2.06.94-2.06 2.06-.94-2.06-.94-.94-2.06-.94 2.06-2.06.94zm-11 1L8.5 8.5l.94-2.06 2.06-.94-2.06-.94L8.5 2.5l-.94 2.06-2.06.94zm10 10l.94 2.06.94-2.06 2.06-.94-2.06-.94-.94-2.06-.94 2.06-2.06.94z\"/><path d=\"M17.41 7.96l-1.37-1.37c-.4-.4-.92-.59-1.43-.59-.52 0-1.04.2-1.43.59L10.3 9.45l-7.72 7.72c-.78.78-.78 2.05 0 2.83L4 21.41c.39.39.9.59 1.41.59.51 0 1.02-.2 1.41-.59l7.78-7.78 2.81-2.81c.8-.78.8-2.07 0-2.86zM5.41 20L4 18.59l7.72-7.72 1.47 1.35L5.41 20z\"/>\n",
              "  </svg>\n",
              "      </button>\n",
              "      \n",
              "  <style>\n",
              "    .colab-df-container {\n",
              "      display:flex;\n",
              "      flex-wrap:wrap;\n",
              "      gap: 12px;\n",
              "    }\n",
              "\n",
              "    .colab-df-convert {\n",
              "      background-color: #E8F0FE;\n",
              "      border: none;\n",
              "      border-radius: 50%;\n",
              "      cursor: pointer;\n",
              "      display: none;\n",
              "      fill: #1967D2;\n",
              "      height: 32px;\n",
              "      padding: 0 0 0 0;\n",
              "      width: 32px;\n",
              "    }\n",
              "\n",
              "    .colab-df-convert:hover {\n",
              "      background-color: #E2EBFA;\n",
              "      box-shadow: 0px 1px 2px rgba(60, 64, 67, 0.3), 0px 1px 3px 1px rgba(60, 64, 67, 0.15);\n",
              "      fill: #174EA6;\n",
              "    }\n",
              "\n",
              "    [theme=dark] .colab-df-convert {\n",
              "      background-color: #3B4455;\n",
              "      fill: #D2E3FC;\n",
              "    }\n",
              "\n",
              "    [theme=dark] .colab-df-convert:hover {\n",
              "      background-color: #434B5C;\n",
              "      box-shadow: 0px 1px 3px 1px rgba(0, 0, 0, 0.15);\n",
              "      filter: drop-shadow(0px 1px 2px rgba(0, 0, 0, 0.3));\n",
              "      fill: #FFFFFF;\n",
              "    }\n",
              "  </style>\n",
              "\n",
              "      <script>\n",
              "        const buttonEl =\n",
              "          document.querySelector('#df-b5dcf941-e501-4d52-a542-768ca6aa27c8 button.colab-df-convert');\n",
              "        buttonEl.style.display =\n",
              "          google.colab.kernel.accessAllowed ? 'block' : 'none';\n",
              "\n",
              "        async function convertToInteractive(key) {\n",
              "          const element = document.querySelector('#df-b5dcf941-e501-4d52-a542-768ca6aa27c8');\n",
              "          const dataTable =\n",
              "            await google.colab.kernel.invokeFunction('convertToInteractive',\n",
              "                                                     [key], {});\n",
              "          if (!dataTable) return;\n",
              "\n",
              "          const docLinkHtml = 'Like what you see? Visit the ' +\n",
              "            '<a target=\"_blank\" href=https://colab.research.google.com/notebooks/data_table.ipynb>data table notebook</a>'\n",
              "            + ' to learn more about interactive tables.';\n",
              "          element.innerHTML = '';\n",
              "          dataTable['output_type'] = 'display_data';\n",
              "          await google.colab.output.renderOutput(dataTable, element);\n",
              "          const docLink = document.createElement('div');\n",
              "          docLink.innerHTML = docLinkHtml;\n",
              "          element.appendChild(docLink);\n",
              "        }\n",
              "      </script>\n",
              "    </div>\n",
              "  </div>\n",
              "  "
            ],
            "text/plain": [
              "           genres_list\n",
              "0   (no genres listed)\n",
              "1               Action\n",
              "2            Adventure\n",
              "3            Animation\n",
              "4             Children\n",
              "5               Comedy\n",
              "6                Crime\n",
              "7          Documentary\n",
              "8                Drama\n",
              "9              Fantasy\n",
              "10           Film-Noir\n",
              "11              Horror\n",
              "12                IMAX\n",
              "13             Musical\n",
              "14             Mystery\n",
              "15             Romance\n",
              "16              Sci-Fi\n",
              "17            Thriller\n",
              "18                 War\n",
              "19             Western"
            ]
          },
          "metadata": {},
          "execution_count": 13
        }
      ]
    },
    {
      "cell_type": "markdown",
      "source": [
        "### Q5: Movies for each categoty"
      ],
      "metadata": {
        "id": "AM962_d8Nf0J"
      }
    },
    {
      "cell_type": "code",
      "source": [
        "q5_result_category_numbers = spark.sql(\"SELECT genres_list, COUNT(*) AS numder_of_movies FROM movies LATERAL VIEW EXPLODE(SPLIT(genres, '[|]')) AS genres_list GROUP BY genres_list ORDER BY genres_list\")\n",
        "q5_result_category_numbers.show()"
      ],
      "metadata": {
        "id": "H9p5OFdzMsvj",
        "colab": {
          "base_uri": "https://localhost:8080/"
        },
        "outputId": "4ca01cfc-7e15-409a-ba23-773243b73362"
      },
      "execution_count": null,
      "outputs": [
        {
          "output_type": "stream",
          "name": "stdout",
          "text": [
            "+------------------+----------------+\n",
            "|       genres_list|numder_of_movies|\n",
            "+------------------+----------------+\n",
            "|(no genres listed)|              34|\n",
            "|            Action|            1828|\n",
            "|         Adventure|            1263|\n",
            "|         Animation|             611|\n",
            "|          Children|             664|\n",
            "|            Comedy|            3756|\n",
            "|             Crime|            1199|\n",
            "|       Documentary|             440|\n",
            "|             Drama|            4361|\n",
            "|           Fantasy|             779|\n",
            "|         Film-Noir|              87|\n",
            "|            Horror|             978|\n",
            "|              IMAX|             158|\n",
            "|           Musical|             334|\n",
            "|           Mystery|             573|\n",
            "|           Romance|            1596|\n",
            "|            Sci-Fi|             980|\n",
            "|          Thriller|            1894|\n",
            "|               War|             382|\n",
            "|           Western|             167|\n",
            "+------------------+----------------+\n",
            "\n"
          ]
        }
      ]
    },
    {
      "cell_type": "code",
      "source": [
        "q5_result_category_movies = spark.sql(\"SELECT genres_list, CONCAT_WS(',', COLLECT_SET(title)) AS movies_list FROM movies LATERAL VIEW EXPLODE(SPLIT(genres, '[|]')) AS genres_list GROUP BY genres_list ORDER BY genres_list\")\n",
        "q5_result_category_movies.show()"
      ],
      "metadata": {
        "colab": {
          "base_uri": "https://localhost:8080/"
        },
        "id": "SJEGaJLTEAsy",
        "outputId": "312e926c-0b35-45b5-f24a-7fb1e3cdd637"
      },
      "execution_count": null,
      "outputs": [
        {
          "output_type": "stream",
          "name": "stdout",
          "text": [
            "+------------------+--------------------+\n",
            "|       genres_list|         movies_list|\n",
            "+------------------+--------------------+\n",
            "|(no genres listed)|T2 3-D: Battle Ac...|\n",
            "|            Action|Stealing Rembrand...|\n",
            "|         Adventure|Ice Age: Collisio...|\n",
            "|         Animation|Ice Age: Collisio...|\n",
            "|          Children|Ice Age: Collisio...|\n",
            "|            Comedy|Hysteria (2011),H...|\n",
            "|             Crime|Stealing Rembrand...|\n",
            "|       Documentary|The Barkley Marat...|\n",
            "|             Drama|Airport '77 (1977...|\n",
            "|           Fantasy|Masters of the Un...|\n",
            "|         Film-Noir|Rififi (Du rififi...|\n",
            "|            Horror|Underworld: Rise ...|\n",
            "|              IMAX|Harry Potter and ...|\n",
            "|           Musical|U2: Rattle and Hu...|\n",
            "|           Mystery|Before and After ...|\n",
            "|           Romance|Vampire in Brookl...|\n",
            "|            Sci-Fi|Push (2009),SORI:...|\n",
            "|          Thriller|Element of Crime,...|\n",
            "|               War|General, The (192...|\n",
            "|           Western|Man Who Shot Libe...|\n",
            "+------------------+--------------------+\n",
            "\n"
          ]
        }
      ]
    },
    {
      "cell_type": "markdown",
      "source": [
        "## Part 2: Spark ALS based approach for training model\n",
        "We will use an Spark ML to predict the ratings, so let's reload \"ratings.csv\" using sc.textFile and then convert it to the form of (user, item, rating) tuples."
      ],
      "metadata": {
        "id": "Tdoc8xJ4RlyS"
      }
    },
    {
      "cell_type": "code",
      "source": [
        "ratings_df.show()"
      ],
      "metadata": {
        "colab": {
          "base_uri": "https://localhost:8080/"
        },
        "id": "4b8Z9NFyEB3a",
        "outputId": "e9f7a10d-9bac-4861-99d2-b545d38e9081"
      },
      "execution_count": null,
      "outputs": [
        {
          "output_type": "stream",
          "name": "stdout",
          "text": [
            "+------+-------+------+---------+\n",
            "|userId|movieId|rating|timestamp|\n",
            "+------+-------+------+---------+\n",
            "|     1|      1|   4.0|964982703|\n",
            "|     1|      3|   4.0|964981247|\n",
            "|     1|      6|   4.0|964982224|\n",
            "|     1|     47|   5.0|964983815|\n",
            "|     1|     50|   5.0|964982931|\n",
            "|     1|     70|   3.0|964982400|\n",
            "|     1|    101|   5.0|964980868|\n",
            "|     1|    110|   4.0|964982176|\n",
            "|     1|    151|   5.0|964984041|\n",
            "|     1|    157|   5.0|964984100|\n",
            "|     1|    163|   5.0|964983650|\n",
            "|     1|    216|   5.0|964981208|\n",
            "|     1|    223|   3.0|964980985|\n",
            "|     1|    231|   5.0|964981179|\n",
            "|     1|    235|   4.0|964980908|\n",
            "|     1|    260|   5.0|964981680|\n",
            "|     1|    296|   3.0|964982967|\n",
            "|     1|    316|   3.0|964982310|\n",
            "|     1|    333|   5.0|964981179|\n",
            "|     1|    349|   4.0|964982563|\n",
            "+------+-------+------+---------+\n",
            "only showing top 20 rows\n",
            "\n"
          ]
        }
      ]
    },
    {
      "cell_type": "code",
      "source": [
        "movie_ratings=ratings_df.drop('timestamp')\n",
        "movie_ratings.show()"
      ],
      "metadata": {
        "colab": {
          "base_uri": "https://localhost:8080/"
        },
        "id": "1wz1Nz4bEB04",
        "outputId": "3abe5102-bfbc-4443-eb30-3e0fb5804e76"
      },
      "execution_count": null,
      "outputs": [
        {
          "output_type": "stream",
          "name": "stdout",
          "text": [
            "+------+-------+------+\n",
            "|userId|movieId|rating|\n",
            "+------+-------+------+\n",
            "|     1|      1|   4.0|\n",
            "|     1|      3|   4.0|\n",
            "|     1|      6|   4.0|\n",
            "|     1|     47|   5.0|\n",
            "|     1|     50|   5.0|\n",
            "|     1|     70|   3.0|\n",
            "|     1|    101|   5.0|\n",
            "|     1|    110|   4.0|\n",
            "|     1|    151|   5.0|\n",
            "|     1|    157|   5.0|\n",
            "|     1|    163|   5.0|\n",
            "|     1|    216|   5.0|\n",
            "|     1|    223|   3.0|\n",
            "|     1|    231|   5.0|\n",
            "|     1|    235|   4.0|\n",
            "|     1|    260|   5.0|\n",
            "|     1|    296|   3.0|\n",
            "|     1|    316|   3.0|\n",
            "|     1|    333|   5.0|\n",
            "|     1|    349|   4.0|\n",
            "+------+-------+------+\n",
            "only showing top 20 rows\n",
            "\n"
          ]
        }
      ]
    },
    {
      "cell_type": "markdown",
      "source": [
        "### ALS Model Selection and Evaluation"
      ],
      "metadata": {
        "id": "NhC_wihcSmQg"
      }
    },
    {
      "cell_type": "code",
      "source": [
        "# Import packages\n",
        "from pyspark.ml.evaluation import RegressionEvaluator\n",
        "from pyspark.ml.recommendation import ALS\n",
        "from pyspark.ml.tuning import CrossValidator,ParamGridBuilder"
      ],
      "metadata": {
        "id": "Jrbb3uLzEByU"
      },
      "execution_count": null,
      "outputs": []
    },
    {
      "cell_type": "code",
      "source": [
        "# Create test and train set\n",
        "(training,test)=movie_ratings.randomSplit([0.8,0.2])"
      ],
      "metadata": {
        "id": "4swmdQRXEBvy"
      },
      "execution_count": null,
      "outputs": []
    },
    {
      "cell_type": "code",
      "source": [
        "# Create ALS model\n",
        "als_model = ALS(userCol=\"userId\", itemCol=\"movieId\", ratingCol=\"rating\", coldStartStrategy=\"drop\")"
      ],
      "metadata": {
        "id": "tk2bR0vMEBs4"
      },
      "execution_count": null,
      "outputs": []
    },
    {
      "cell_type": "code",
      "source": [
        "#Tune model using ParamGridBuilder\n",
        "params = ParamGridBuilder() \\\n",
        "            .addGrid(als_model.maxIter, [3, 5, 10]) \\\n",
        "            .addGrid(als_model.rank, [5, 10, 15]) \\\n",
        "            .addGrid(als_model.regParam, [0.01, 0.05, 0.1]) \\\n",
        "            .addGrid(als_model.alpha, [0.1, 0.5, 1]) \\\n",
        "            .build()"
      ],
      "metadata": {
        "id": "9EByjcVREBo0"
      },
      "execution_count": null,
      "outputs": []
    },
    {
      "cell_type": "code",
      "source": [
        "# Define evaluator as RMSE\n",
        "evaluator = RegressionEvaluator(metricName=\"rmse\", labelCol=\"rating\", predictionCol=\"prediction\")"
      ],
      "metadata": {
        "id": "7Fz6NnG_EBmB"
      },
      "execution_count": null,
      "outputs": []
    },
    {
      "cell_type": "code",
      "source": [
        "# Build Cross validation \n",
        "cv = CrossValidator(estimator=als_model, estimatorParamMaps=params, evaluator=evaluator, numFolds=5)"
      ],
      "metadata": {
        "id": "ELwCW8CyEAqP"
      },
      "execution_count": null,
      "outputs": []
    },
    {
      "cell_type": "code",
      "source": [
        "#Fit ALS model to training data\n",
        "cv_model = cv.fit(training)"
      ],
      "metadata": {
        "id": "QgOuvTGIEAnh"
      },
      "execution_count": null,
      "outputs": []
    },
    {
      "cell_type": "code",
      "source": [
        "#Extract best model from the tuning exercise using ParamGridBuilder\n",
        "best_model = cv_model.bestModel\n",
        "# Print each parameter of the best model\n",
        "best_params = cv_model.getEstimatorParamMaps()[np.argmin(cv_model.avgMetrics)]\n",
        "for i,j in best_params.items():\n",
        "  print('-> '+i.name+': '+str(j))"
      ],
      "metadata": {
        "colab": {
          "base_uri": "https://localhost:8080/"
        },
        "id": "xCG5iEhXEAk4",
        "outputId": "43d17fef-fe52-44ae-bfd0-e782980139ad"
      },
      "execution_count": null,
      "outputs": [
        {
          "output_type": "stream",
          "name": "stdout",
          "text": [
            "-> maxIter: 10\n",
            "-> rank: 5\n",
            "-> regParam: 0.1\n",
            "-> alpha: 0.5\n"
          ]
        }
      ]
    },
    {
      "cell_type": "markdown",
      "source": [
        "### Model testing\n",
        "And finally, make a prediction and check the testing error."
      ],
      "metadata": {
        "id": "NYWhUrZM_05D"
      }
    },
    {
      "cell_type": "code",
      "source": [
        "#Generate predictions and evaluate using RMSE\n",
        "predictions=best_model.transform(test)\n",
        "rmse = evaluator.evaluate(predictions)"
      ],
      "metadata": {
        "id": "Qhn_iXeKMsoD"
      },
      "execution_count": null,
      "outputs": []
    },
    {
      "cell_type": "code",
      "source": [
        "#Print evaluation metrics and model parameters\n",
        "print(\"RMSE = \"+str(rmse))\n",
        "print(\"**Best Model**\")\n",
        "print(\" Rank: \", str(best_model._java_obj.parent().getRank())) \n",
        "print(\" MaxIter: \", str(best_model._java_obj.parent().getMaxIter())) \n",
        "print(\" RegParam: \", str(best_model._java_obj.parent().getRegParam())) \n",
        "print(\" Alpha: \", str(best_model._java_obj.parent().getAlpha()))"
      ],
      "metadata": {
        "colab": {
          "base_uri": "https://localhost:8080/"
        },
        "id": "96GjsanN8SLN",
        "outputId": "cec66482-38d7-4950-c9de-02ae3b7bec89"
      },
      "execution_count": null,
      "outputs": [
        {
          "output_type": "stream",
          "name": "stdout",
          "text": [
            "RMSE = 0.8866523916895872\n",
            "**Best Model**\n",
            " Rank:  5\n",
            " MaxIter:  10\n",
            " RegParam:  0.1\n",
            " Alpha:  0.5\n"
          ]
        }
      ]
    },
    {
      "cell_type": "code",
      "source": [
        "predictions.show()"
      ],
      "metadata": {
        "colab": {
          "base_uri": "https://localhost:8080/"
        },
        "id": "rW49RTCM8SIy",
        "outputId": "b3270d5e-1220-4fd8-fbee-47afe278f8de"
      },
      "execution_count": null,
      "outputs": [
        {
          "output_type": "stream",
          "name": "stdout",
          "text": [
            "+------+-------+------+----------+\n",
            "|userId|movieId|rating|prediction|\n",
            "+------+-------+------+----------+\n",
            "|   580|  44022|   3.5| 3.2944596|\n",
            "|   133|    471|   4.0| 2.7501032|\n",
            "|   362|   1591|   4.0| 2.4876447|\n",
            "|   155|   3175|   4.0| 3.5329058|\n",
            "|    34|   3997|   2.0|  2.841766|\n",
            "|   368|   1580|   3.0| 2.8941004|\n",
            "|   101|   3175|   4.0| 3.3813784|\n",
            "|   115|   3175|   4.0| 3.5748672|\n",
            "|   385|   1238|   3.0|  3.833984|\n",
            "|    28|   1645|   2.5|   2.98396|\n",
            "|   159|   1088|   4.0|  3.105312|\n",
            "|   606|   1959|   3.5| 3.8424022|\n",
            "|   606|   6466|   4.0|  4.148471|\n",
            "|   602|    471|   4.0| 3.1445143|\n",
            "|    91|    471|   1.0| 2.7188714|\n",
            "|    93|   1580|   5.0|  4.364394|\n",
            "|    93|   1591|   4.0| 2.2007782|\n",
            "|   233|   1580|   3.0| 2.8405023|\n",
            "|   599|   1959|   3.0| 2.7461076|\n",
            "|   599|   3997|   0.5|  1.564797|\n",
            "+------+-------+------+----------+\n",
            "only showing top 20 rows\n",
            "\n"
          ]
        }
      ]
    },
    {
      "cell_type": "markdown",
      "source": [
        "### Model apply and see the performance"
      ],
      "metadata": {
        "id": "pAwjD3cwX_ke"
      }
    },
    {
      "cell_type": "code",
      "source": [
        "alldata=best_model.transform(movie_ratings)\n",
        "rmse_alldata = evaluator.evaluate(alldata)\n",
        "print (\"RMSE = \"+str(rmse_alldata))"
      ],
      "metadata": {
        "id": "mK8-M_zT8SGY",
        "colab": {
          "base_uri": "https://localhost:8080/"
        },
        "outputId": "cb94e220-40eb-474b-a859-19d5f036bb39"
      },
      "execution_count": null,
      "outputs": [
        {
          "output_type": "stream",
          "name": "stdout",
          "text": [
            "RMSE = 0.6934922039563032\n"
          ]
        }
      ]
    },
    {
      "cell_type": "code",
      "source": [
        "alldata.registerTempTable(\"alldata\")"
      ],
      "metadata": {
        "id": "1UiOZZoL8SDy",
        "colab": {
          "base_uri": "https://localhost:8080/"
        },
        "outputId": "5f7f66c2-09e6-4de0-fe80-0650b639b467"
      },
      "execution_count": null,
      "outputs": [
        {
          "output_type": "stream",
          "name": "stderr",
          "text": [
            "/content/spark-3.2.1-bin-hadoop2.7/python/pyspark/sql/dataframe.py:140: FutureWarning: Deprecated in 2.0, use createOrReplaceTempView instead.\n",
            "  FutureWarning\n"
          ]
        }
      ]
    },
    {
      "cell_type": "code",
      "source": [
        "spark.sql(\"SELECT * FROM alldata\").show()"
      ],
      "metadata": {
        "id": "W9LBvbtp8SBL",
        "colab": {
          "base_uri": "https://localhost:8080/"
        },
        "outputId": "b2f92be2-ccec-41c8-f4d5-0e1d4fe75122"
      },
      "execution_count": null,
      "outputs": [
        {
          "output_type": "stream",
          "name": "stdout",
          "text": [
            "+------+-------+------+----------+\n",
            "|userId|movieId|rating|prediction|\n",
            "+------+-------+------+----------+\n",
            "|   463|   1088|   3.5| 3.2347317|\n",
            "|   137|   1580|   3.5|  3.195099|\n",
            "|   580|   1580|   4.0| 3.6432002|\n",
            "|   580|   3175|   2.5| 3.5013561|\n",
            "|   580|  44022|   3.5| 3.2944596|\n",
            "|   133|    471|   4.0| 2.7501032|\n",
            "|   322|   1580|   3.5| 3.0273738|\n",
            "|   362|   1591|   4.0| 2.4876447|\n",
            "|   362|   1645|   5.0| 3.6733685|\n",
            "|   593|   1580|   1.5| 2.5874534|\n",
            "|   597|    471|   2.0| 4.2311735|\n",
            "|   597|   1580|   3.0| 3.4178874|\n",
            "|   597|   1959|   4.0| 4.1104193|\n",
            "|   597|   2366|   5.0|  4.287929|\n",
            "|   108|   1959|   5.0| 4.2124724|\n",
            "|   155|   1580|   4.0| 3.7836523|\n",
            "|   155|   3175|   4.0| 3.5329058|\n",
            "|    34|   1580|   2.5|  3.022368|\n",
            "|    34|   3997|   2.0|  2.841766|\n",
            "|   368|   1580|   3.0| 2.8941004|\n",
            "+------+-------+------+----------+\n",
            "only showing top 20 rows\n",
            "\n"
          ]
        }
      ]
    },
    {
      "cell_type": "code",
      "source": [
        "spark.sql(\"SELECT * FROM movies JOIN alldata ON movies.movieId=alldata.movieId\").show()"
      ],
      "metadata": {
        "id": "apxbh9K18R_G",
        "colab": {
          "base_uri": "https://localhost:8080/"
        },
        "outputId": "48663934-1fe8-4f9c-8e58-7315bf0e5c3d"
      },
      "execution_count": null,
      "outputs": [
        {
          "output_type": "stream",
          "name": "stdout",
          "text": [
            "+-------+--------------------+--------------------+------+-------+------+----------+\n",
            "|movieId|               title|              genres|userId|movieId|rating|prediction|\n",
            "+-------+--------------------+--------------------+------+-------+------+----------+\n",
            "|   1088|Dirty Dancing (1987)|Drama|Musical|Rom...|   463|   1088|   3.5| 3.2347317|\n",
            "|   1580|Men in Black (a.k...|Action|Comedy|Sci-Fi|   137|   1580|   3.5|  3.195099|\n",
            "|   1580|Men in Black (a.k...|Action|Comedy|Sci-Fi|   580|   1580|   4.0| 3.6432002|\n",
            "|   3175| Galaxy Quest (1999)|Adventure|Comedy|...|   580|   3175|   2.5| 3.5013561|\n",
            "|  44022|Ice Age 2: The Me...|Adventure|Animati...|   580|  44022|   3.5| 3.2944596|\n",
            "|    471|Hudsucker Proxy, ...|              Comedy|   133|    471|   4.0| 2.7501032|\n",
            "|   1580|Men in Black (a.k...|Action|Comedy|Sci-Fi|   322|   1580|   3.5| 3.0273738|\n",
            "|   1591|        Spawn (1997)|Action|Adventure|...|   362|   1591|   4.0| 2.4876447|\n",
            "|   1645|The Devil's Advoc...|Drama|Mystery|Thr...|   362|   1645|   5.0| 3.6733685|\n",
            "|   1580|Men in Black (a.k...|Action|Comedy|Sci-Fi|   593|   1580|   1.5| 2.5874534|\n",
            "|    471|Hudsucker Proxy, ...|              Comedy|   597|    471|   2.0| 4.2311735|\n",
            "|   1580|Men in Black (a.k...|Action|Comedy|Sci-Fi|   597|   1580|   3.0| 3.4178874|\n",
            "|   1959|Out of Africa (1985)|       Drama|Romance|   597|   1959|   4.0| 4.1104193|\n",
            "|   2366|    King Kong (1933)|Action|Adventure|...|   597|   2366|   5.0|  4.287929|\n",
            "|   1959|Out of Africa (1985)|       Drama|Romance|   108|   1959|   5.0| 4.2124724|\n",
            "|   1580|Men in Black (a.k...|Action|Comedy|Sci-Fi|   155|   1580|   4.0| 3.7836523|\n",
            "|   3175| Galaxy Quest (1999)|Adventure|Comedy|...|   155|   3175|   4.0| 3.5329058|\n",
            "|   1580|Men in Black (a.k...|Action|Comedy|Sci-Fi|    34|   1580|   2.5|  3.022368|\n",
            "|   3997|Dungeons & Dragon...|Action|Adventure|...|    34|   3997|   2.0|  2.841766|\n",
            "|   1580|Men in Black (a.k...|Action|Comedy|Sci-Fi|   368|   1580|   3.0| 2.8941004|\n",
            "+-------+--------------------+--------------------+------+-------+------+----------+\n",
            "only showing top 20 rows\n",
            "\n"
          ]
        }
      ]
    },
    {
      "cell_type": "markdown",
      "source": [
        "## Recommend moive to users with id: 575, 232."
      ],
      "metadata": {
        "id": "BY-d4RLJaCfH"
      }
    },
    {
      "cell_type": "code",
      "source": [
        "from pyspark.sql.functions import StringType"
      ],
      "metadata": {
        "id": "6BiF-pdHbYnF"
      },
      "execution_count": null,
      "outputs": []
    },
    {
      "cell_type": "code",
      "source": [
        "# Define the function to recommend topK movies to specific user\n",
        "def topKRecommend(k, user_id, model):\n",
        "  '''\n",
        "  k: The number of movies recommended to the user\n",
        "  user_id: The id of the user who's going to be recommended movies\n",
        "  model: The model used for recommendation\n",
        "  '''\n",
        "  all_recommend = model.recommendForAllUsers(k)\n",
        "  user_recommend = all_recommend.where(all_recommend.userId == user_id).toPandas()\n",
        "\n",
        "  if user_recommend.empty:\n",
        "    print(\"The user with id {} cannot be found.\".format(user_id))\n",
        "    return None\n",
        "\n",
        "  rec_list = []\n",
        "  for rec_pair in user_recommend.iloc[0,1]:\n",
        "    rec_list.append(list(rec_pair))\n",
        "\n",
        "  rec_df = spark.createDataFrame(pd.DataFrame(rec_list, columns=[\"movieId\", \"rec_rate\"]))\n",
        "  #movies_df = movies_df.join(rec_df)\n",
        "  return rec_df\n",
        "\n",
        "def combineMovieDetails(details_df, rec_df):\n",
        "  '''\n",
        "  details_df: The dataframe including the detail information of movies\n",
        "  rec_df: The dataframe including the recommended movies and the prediction score\n",
        "  return: a dataframe including the detail information for all recommended movies and corresponding prediction score\n",
        "  '''\n",
        "  if not rec_df:\n",
        "    return None\n",
        "  rec_df = rec_df.select(rec_df[\"movieId\"].cast(StringType()), rec_df[\"rec_rate\"])\n",
        "  return details_df.select(details_df[\"movieId\"].cast(StringType()), details_df[\"title\"], details_df[\"genres\"]).join(rec_df, \"movieId\").orderBy(\"rec_rate\", ascending = False)\n"
      ],
      "metadata": {
        "id": "BeHFLvM88R8r"
      },
      "execution_count": null,
      "outputs": []
    },
    {
      "cell_type": "code",
      "source": [
        "# The 10 movies recommended to user with id 575\n",
        "rec_movies_575 = combineMovieDetails(movies_df, topKRecommend(10, 575, best_model))\n",
        "rec_movies_575.show()"
      ],
      "metadata": {
        "colab": {
          "base_uri": "https://localhost:8080/"
        },
        "id": "CcM7zdIirZaB",
        "outputId": "379447d4-2102-4daa-ba9e-14ef1f65c732"
      },
      "execution_count": null,
      "outputs": [
        {
          "output_type": "stream",
          "name": "stderr",
          "text": [
            "/content/spark-3.2.1-bin-hadoop2.7/python/pyspark/sql/context.py:127: FutureWarning: Deprecated in 3.0.0. Use SparkSession.builder.getOrCreate() instead.\n",
            "  FutureWarning\n"
          ]
        },
        {
          "output_type": "stream",
          "name": "stdout",
          "text": [
            "+-------+--------------------+--------------------+------------------+\n",
            "|movieId|               title|              genres|          rec_rate|\n",
            "+-------+--------------------+--------------------+------------------+\n",
            "|  33649|  Saving Face (2004)|Comedy|Drama|Romance| 4.940224647521973|\n",
            "| 183897| Isle of Dogs (2018)|    Animation|Comedy|4.9130096435546875|\n",
            "|   3379| On the Beach (1959)|               Drama|   4.8609299659729|\n",
            "|   7587|Samouraï, Le (God...|Crime|Drama|Thriller| 4.853343486785889|\n",
            "|    945|      Top Hat (1935)|Comedy|Musical|Ro...| 4.813371181488037|\n",
            "| 104339|In a World... (2013)|              Comedy| 4.804159164428711|\n",
            "|   5075|  Waydowntown (2000)|              Comedy| 4.753145217895508|\n",
            "|   5666|Rules of Attracti...|Comedy|Drama|Roma...| 4.745994567871094|\n",
            "| 131724|The Jinx: The Lif...|         Documentary| 4.743083477020264|\n",
            "|   6666|Discreet Charm of...|Comedy|Drama|Fantasy| 4.717129707336426|\n",
            "+-------+--------------------+--------------------+------------------+\n",
            "\n"
          ]
        }
      ]
    },
    {
      "cell_type": "code",
      "source": [
        "# The 15 movies recommended to user with id 232\n",
        "rec_movie_232 = combineMovieDetails(movies_df, topKRecommend(15, 232, best_model))\n",
        "rec_movie_232.show()"
      ],
      "metadata": {
        "colab": {
          "base_uri": "https://localhost:8080/"
        },
        "id": "0994uRgLrZK1",
        "outputId": "7f3e3683-5a1f-4f67-ba2b-1c3dd5ba3332"
      },
      "execution_count": null,
      "outputs": [
        {
          "output_type": "stream",
          "name": "stderr",
          "text": [
            "/content/spark-3.2.1-bin-hadoop2.7/python/pyspark/sql/context.py:127: FutureWarning: Deprecated in 3.0.0. Use SparkSession.builder.getOrCreate() instead.\n",
            "  FutureWarning\n"
          ]
        },
        {
          "output_type": "stream",
          "name": "stdout",
          "text": [
            "+-------+--------------------+--------------------+------------------+\n",
            "|movieId|               title|              genres|          rec_rate|\n",
            "+-------+--------------------+--------------------+------------------+\n",
            "|   7587|Samouraï, Le (God...|Crime|Drama|Thriller| 5.061102390289307|\n",
            "|   3379| On the Beach (1959)|               Drama| 4.939198970794678|\n",
            "|    945|      Top Hat (1935)|Comedy|Musical|Ro...| 4.902270317077637|\n",
            "|  33649|  Saving Face (2004)|Comedy|Drama|Romance| 4.842164516448975|\n",
            "|   6666|Discreet Charm of...|Comedy|Drama|Fantasy| 4.784900665283203|\n",
            "| 134796|  Bitter Lake (2015)|         Documentary|4.7595953941345215|\n",
            "|   7071|Woman Under the I...|               Drama|4.7595953941345215|\n",
            "| 138966|Nasu: Summer in A...|           Animation|4.7595953941345215|\n",
            "| 179135|Blue Planet II (2...|         Documentary|4.7595953941345215|\n",
            "| 184245|De platte jungle ...|         Documentary|4.7595953941345215|\n",
            "|  26073|Human Condition I...|           Drama|War|4.7595953941345215|\n",
            "|  74226|Dream of Light (a...|   Documentary|Drama|4.7595953941345215|\n",
            "| 171495|              Cosmos|  (no genres listed)|4.7595953941345215|\n",
            "|  84273|Zeitgeist: Moving...|         Documentary|4.7595953941345215|\n",
            "| 117531|    Watermark (2014)|         Documentary|4.7595953941345215|\n",
            "+-------+--------------------+--------------------+------------------+\n",
            "\n"
          ]
        }
      ]
    },
    {
      "cell_type": "markdown",
      "source": [
        "## Find the similar moives for moive with id: 463, 471\n"
      ],
      "metadata": {
        "id": "lzN-NfAKfwMG"
      }
    },
    {
      "cell_type": "code",
      "source": [
        "import collections\n",
        "from pyspark.sql.functions import col\n",
        "# Define the function to find the similar movies\n",
        "def findSimilarMovies(k, target_id, model, method, movie_details):\n",
        "  '''\n",
        "  k: The number of movies similar to the target movie\n",
        "  target_id: The id of the target movie\n",
        "  model: The ALS model which is used to find similar movies\n",
        "  method: The method to calculate the similarity between movies\n",
        "  movie_details: The dataframe including the detail information of all movies\n",
        "  return: A dataframe including the information of the similar movies\n",
        "  '''\n",
        "  movie_factors = model.itemFactors.toPandas()\n",
        "  movie_details = movie_details.select(movie_details[\"movieId\"].cast(StringType()), movie_details[\"title\"], movie_details[\"genres\"])\n",
        "  # Check whether there is a movie with the target id\n",
        "  try:\n",
        "    target_feature = movie_factors.loc[movie_factors.id==target_id, 'features'].to_numpy()[0]\n",
        "  except:\n",
        "    print(\"Cannot find movie with id {}\".format(target_id))\n",
        "    return \n",
        "\n",
        "  # Find the simialr movies based on cosine similarity between movies\n",
        "  if method == \"cosine_similarity\":\n",
        "    similar_movie = pd.DataFrame(columns=[\"movieId\", \"cosine_similarity\"])\n",
        "    for id, feature in movie_factors.to_numpy():\n",
        "      cosine_similarity=np.dot(target_feature,feature)/(np.linalg.norm(target_feature) * np.linalg.norm(feature))\n",
        "      similar_movie = similar_movie.append({'movieId':str(id), 'cosine_similarity':cosine_similarity}, ignore_index=True)\n",
        "\n",
        "    similar_movie_sd = spark.createDataFrame(similar_movie).orderBy(\"cosine_similarity\", ascending=False)\n",
        "\n",
        "    similar_movie_cs = similar_movie_sd.filter(similar_movie_sd['cosine_similarity'] < 0.99).limit(k).join(movie_details, 'movieId')\n",
        "    #similar_movie_cs = movie_details.select(movie_details[\"movieId\"].cast(StringType()), movie_details[\"title\"], movie_details[\"genres\"]).join(similar_movie_cs, \"movieId\")\n",
        "    return similar_movie_cs.orderBy(similar_movie_cs['cosine_similarity'], ascending=False).drop(similar_movie_cs['cosine_similarity'])\n",
        "  \n",
        "  # Find the similar movies based on euclidean distance between movies\n",
        "  if method == \"euclidean_distance\":\n",
        "    similar_movie = pd.DataFrame(columns=[\"movieId\", \"euclidean_distance\"])\n",
        "    for id, feature in movie_factors.to_numpy():\n",
        "      euclidean_distance = np.linalg.norm(np.array(target_feature) - np.array(feature))\n",
        "      similar_movie= similar_movie.append({'movieId':str(id), 'euclidean_distance':euclidean_distance}, ignore_index=True)\n",
        "    \n",
        "    similar_movie_sd = spark.createDataFrame(similar_movie).orderBy(\"euclidean_distance\", ascending=True)\n",
        "    #movie_details = movie_details.select(movie_details[\"movieId\"].cast(StringType()), movie_details[\"title\"], movie_details[\"genres\"])\n",
        "    similar_movie_ed = similar_movie_sd.filter(similar_movie_sd['euclidean_distance'] > 0).limit(k).join(movie_details, 'movieId')\n",
        "    #similar_movie_ed = movie_details.select(movie_details[\"movieId\"].cast(StringType()), movie_details[\"title\"], movie_details[\"genres\"]).join(similar_movie_ed, \"movieId\")\n",
        "    return similar_movie_ed.orderBy(similar_movie_ed['euclidean_distance'], ascending=True).drop(similar_movie_ed['euclidean_distance'])\n"
      ],
      "metadata": {
        "id": "I8_lVT5eBiaB"
      },
      "execution_count": null,
      "outputs": []
    },
    {
      "cell_type": "code",
      "source": [
        "similar_movies_463 = findSimilarMovies(10, 463, best_model, \"cosine_similarity\", movies_df)"
      ],
      "metadata": {
        "colab": {
          "base_uri": "https://localhost:8080/"
        },
        "id": "PclrcYsXrAGt",
        "outputId": "afbf87c9-8ae3-45b6-f3a1-ef52354aca8a"
      },
      "execution_count": null,
      "outputs": [
        {
          "output_type": "stream",
          "name": "stderr",
          "text": [
            "/content/spark-3.2.1-bin-hadoop2.7/python/pyspark/sql/context.py:127: FutureWarning: Deprecated in 3.0.0. Use SparkSession.builder.getOrCreate() instead.\n",
            "  FutureWarning\n"
          ]
        },
        {
          "output_type": "stream",
          "name": "stdout",
          "text": [
            "Cannot find movie with id 463\n"
          ]
        }
      ]
    },
    {
      "cell_type": "code",
      "source": [
        "similar_movies_471_cs = findSimilarMovies(10, 471, best_model, \"cosine_similarity\", movies_df)\n",
        "similar_movies_471_cs.show()"
      ],
      "metadata": {
        "colab": {
          "base_uri": "https://localhost:8080/"
        },
        "id": "jNwNHsr1ruZs",
        "outputId": "c14d3159-1bff-4aa4-e890-bf2eeb47d646"
      },
      "execution_count": null,
      "outputs": [
        {
          "output_type": "stream",
          "name": "stderr",
          "text": [
            "/content/spark-3.2.1-bin-hadoop2.7/python/pyspark/sql/context.py:127: FutureWarning: Deprecated in 3.0.0. Use SparkSession.builder.getOrCreate() instead.\n",
            "  FutureWarning\n"
          ]
        },
        {
          "output_type": "stream",
          "name": "stdout",
          "text": [
            "+-------+--------------------+--------------------+\n",
            "|movieId|               title|              genres|\n",
            "+-------+--------------------+--------------------+\n",
            "|    824|Kaspar Hauser (1993)|       Drama|Mystery|\n",
            "|    389|Colonel Chabert, ...|   Drama|Romance|War|\n",
            "|  76077|Hot Tub Time Mach...|       Comedy|Sci-Fi|\n",
            "|  27731|Cat Returns, The ...|Adventure|Animati...|\n",
            "|     13|        Balto (1995)|Adventure|Animati...|\n",
            "|   8738|Woman Is a Woman,...|Comedy|Drama|Musi...|\n",
            "|  26147|Thousand Clowns, ...|Comedy|Drama|Romance|\n",
            "|   6408|Animals are Beaut...|  Comedy|Documentary|\n",
            "|   2108|   L.A. Story (1991)|      Comedy|Romance|\n",
            "|    596|    Pinocchio (1940)|Animation|Childre...|\n",
            "+-------+--------------------+--------------------+\n",
            "\n"
          ]
        }
      ]
    },
    {
      "cell_type": "code",
      "source": [
        "similar_movies_471_ed = findSimilarMovies(10, 471, best_model, \"euclidean_distance\", movies_df)\n",
        "similar_movies_471_ed.show()"
      ],
      "metadata": {
        "colab": {
          "base_uri": "https://localhost:8080/"
        },
        "id": "E-0gEbYvsBCx",
        "outputId": "c3688bcf-8e09-449a-af29-d7389083ab9a"
      },
      "execution_count": null,
      "outputs": [
        {
          "output_type": "stream",
          "name": "stderr",
          "text": [
            "/content/spark-3.2.1-bin-hadoop2.7/python/pyspark/sql/context.py:127: FutureWarning: Deprecated in 3.0.0. Use SparkSession.builder.getOrCreate() instead.\n",
            "  FutureWarning\n"
          ]
        },
        {
          "output_type": "stream",
          "name": "stdout",
          "text": [
            "+-------+--------------------+--------------------+\n",
            "|movieId|               title|              genres|\n",
            "+-------+--------------------+--------------------+\n",
            "|   1293|       Gandhi (1982)|               Drama|\n",
            "|   3699|      Starman (1984)|Adventure|Drama|R...|\n",
            "|   1147|When We Were King...|         Documentary|\n",
            "|  76077|Hot Tub Time Mach...|       Comedy|Sci-Fi|\n",
            "|   1497|  Double Team (1997)|              Action|\n",
            "|   3928|Abbott and Costel...|       Comedy|Horror|\n",
            "|   2108|   L.A. Story (1991)|      Comedy|Romance|\n",
            "|    596|    Pinocchio (1940)|Animation|Childre...|\n",
            "|    661|James and the Gia...|Adventure|Animati...|\n",
            "|   3308|Flamingo Kid, The...|        Comedy|Drama|\n",
            "+-------+--------------------+--------------------+\n",
            "\n"
          ]
        }
      ]
    },
    {
      "cell_type": "markdown",
      "source": [
        "## Report\n",
        "### Motivation\n",
        "With the increasing popularity of artificial intelligence in recent years, there are more and more machine learning algorithms being applied to practical industrial production. Among them, recommendation system is a very popular research direction which can be used to help the companies, especially the Internet enterprise, to improve the user experience and daily active user by recommending content that user might like. Collaborative filter is one of the most popular recommend algorithm and can be implemented with Alternating Least Square(ALS) model in Spark ML. So I would like to attampt to design and implement a movie recommendation system based on the movie rating dataset.\n",
        "\n",
        "### Step1: Environment Setup and Data ETL\n",
        "Download the spark file and set it up in colab. Download  and import the datasets.\n",
        "### Step2: Data Analysis and Preprocessing\n",
        "Malnipulate the data with SQL and gain some intuitive insights.\n",
        "### Step3: Hyperparameter Selection and Model building\n",
        "Choose the best hyperparameters of ALS model by testing through corss-validation and train the model with the training dataset.\n",
        "### Step4: Model Evaluation\n",
        "Evaluate the model by measuring the root mean square error(RMSE) with the testing dataset.\n",
        "### Step5: Model Application - Recommend movies to specific users\n",
        "Define the function based on the ALS model to calculate and choose the movies that is most likely to be enjoyed by the given user.\n",
        "### Step6: Model Application - Fine the Similar Movies\n",
        "Define the fuction based on one of the matrix in ALS model, Item-Feature Matrix, to calculate the similarity between the target movie and others with two different method, cosine similarity and euclidean distance. And return the movies with the highest similarity.\n",
        "\n",
        "### Output and Conclusion\n",
        "- ALS is an intuitive way to implement a recommendation system due to its explainability, because it is a kind of model which uses the collaborative filtering algorithm based on matrix factorization method to implement recommendation system. \n",
        "- Base on cross-validation, the best model is chosen and used to recommeded movies to users and find the similar movies and get a good performance.\n",
        "- However, ALS model also has some disadvantages. For example, the model needs to be periodically updated and its calculation process takes a long time. I would like to try to implement the recommendation system with other method in the future, just like Wide-and-deep."
      ],
      "metadata": {
        "id": "dbsf-GwctSZx"
      }
    }
  ]
}